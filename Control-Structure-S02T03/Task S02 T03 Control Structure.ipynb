{
 "cells": [
  {
   "cell_type": "markdown",
   "id": "d245acea",
   "metadata": {
    "run_control": {
     "marked": true
    }
   },
   "source": [
    "# Exercises - Data Science Sprint 02 - S02 T03\n",
    "   **Control Structure**"
   ]
  },
  {
   "cell_type": "markdown",
   "id": "2848916a",
   "metadata": {},
   "source": [
    "## Level 1\n"
   ]
  },
  {
   "cell_type": "markdown",
   "id": "faafe66d",
   "metadata": {},
   "source": [
    "### Level 1 - Exercise 1\n",
    "    * Create a program that classifies a numeric value depending on the scale (Failed, Passed, Good, Excellent)\n"
   ]
  },
  {
   "cell_type": "code",
   "execution_count": 1,
   "id": "05946687",
   "metadata": {
    "ExecuteTime": {
     "end_time": "2022-07-04T18:37:00.837838Z",
     "start_time": "2022-07-04T18:36:52.912231Z"
    }
   },
   "outputs": [
    {
     "name": "stdout",
     "output_type": "stream",
     "text": [
      "Numerial value grade: 9\n",
      "Your classificaion is:  Fail\n"
     ]
    }
   ],
   "source": [
    "# Definition of a function to evaluate the grade\n",
    "\n",
    "# Specify each range\n",
    "def classify(grade):\n",
    "    if (grade <= 100) & (grade >= 90): \n",
    "        return (\"Excellent\")\n",
    "    elif (grade < 90) & (grade >= 80): \n",
    "        reutn (\"Good\")\n",
    "    elif (grade < 80) & (grade >= 70): \n",
    "        return(\"Pass\")\n",
    "    elif (grade < 70) & (grade >= 0): \n",
    "        return(\"Fail\")\n",
    "    else: \n",
    "        return (\"NOT VALID\")\n",
    "\n",
    "# Enter the grade\n",
    "grade = float(input(\"Numerial value grade: \"))\n",
    "\n",
    "# Getting the classification\n",
    "print(\"Your classificaion is: \", classify(grade))\n"
   ]
  },
  {
   "cell_type": "markdown",
   "id": "308a7c9f",
   "metadata": {},
   "source": [
    "### Level 1 - Exercise 2\n",
    "* Using the tutorial \"Programiz: Python Input, Output and Import\" design a program for asking for 2 numbers. A message has to tell us which is greater, or if they are equals"
   ]
  },
  {
   "cell_type": "code",
   "execution_count": 2,
   "id": "bffa340e",
   "metadata": {
    "ExecuteTime": {
     "end_time": "2022-07-04T18:37:07.133224Z",
     "start_time": "2022-07-04T18:37:00.838835Z"
    }
   },
   "outputs": [
    {
     "name": "stdout",
     "output_type": "stream",
     "text": [
      "*** Enter 2 numbers, son we can compare them ***\n",
      "Enter the 1st number: 20\n",
      "Enter the 2nd number: 40\n",
      "40 is greater than 20\n"
     ]
    }
   ],
   "source": [
    "def compareNum(num1, num2):\n",
    "    if num1 > num2: return(num1 + \" is greater than \" + num2)\n",
    "    elif num2 > num1: return(num2 +  \" is greater than \" + num1)\n",
    "    else: return(num1 + \" and \" + num2 + \" are equals\")\n",
    "\n",
    "print(\"*** Enter 2 numbers, son we can compare them ***\")\n",
    "num1 = input(\"Enter the 1st number: \")\n",
    "num2 = input(\"Enter the 2nd number: \")\n",
    "\n",
    "print(compareNum(num1,num2))\n"
   ]
  },
  {
   "cell_type": "markdown",
   "id": "eac710bc",
   "metadata": {},
   "source": [
    "### Level 1 - Exercise 3\n",
    "* Design a program asking for your name and for a number. If the number is 0, must show an error message. Otherwise, has to show the name repeated as many times as the number introduced."
   ]
  },
  {
   "cell_type": "code",
   "execution_count": 3,
   "id": "f14de839",
   "metadata": {
    "ExecuteTime": {
     "end_time": "2022-07-04T18:37:18.067205Z",
     "start_time": "2022-07-04T18:37:07.135217Z"
    }
   },
   "outputs": [
    {
     "name": "stdout",
     "output_type": "stream",
     "text": [
      "*** Let us play with your name ***\n",
      "Enter your name: Rafa\n",
      "Enter a number: 9\n",
      "Rafa Rafa Rafa Rafa Rafa Rafa Rafa Rafa Rafa \n"
     ]
    }
   ],
   "source": [
    "# Definition of a funcion to check the number entered and printing the string if it greater than 0\n",
    "def letsPlay(str1, num1):\n",
    "    if num1 == 0:\n",
    "        print (\"Error: the number should be greater than 0\")\n",
    "    else:\n",
    "        str = \"\"\n",
    "        for i in range (num1):\n",
    "            str += str1 + \" \" \n",
    "        print (str)\n",
    "\n",
    "# Enter the name \n",
    "print(\"*** Let us play with your name ***\")\n",
    "str1 = input(\"Enter your name: \")\n",
    "# Enter the number\n",
    "num1 = int(input(\"Enter a number: \"))\n",
    "# Call to the function\n",
    "letsPlay(str1, num1)"
   ]
  },
  {
   "cell_type": "markdown",
   "id": "4df310ce",
   "metadata": {
    "ExecuteTime": {
     "end_time": "2022-06-21T20:57:15.582844Z",
     "start_time": "2022-06-21T20:57:15.568892Z"
    }
   },
   "source": [
    "### Level 1 - Exercise 4\n",
    "* Design a program where a list is given and it must find out if the list is symmetric or not. In case is not, it must tell us how many elements contains."
   ]
  },
  {
   "cell_type": "code",
   "execution_count": 4,
   "id": "8584d7af",
   "metadata": {
    "ExecuteTime": {
     "end_time": "2022-07-04T18:37:18.177334Z",
     "start_time": "2022-07-04T18:37:18.069192Z"
    }
   },
   "outputs": [
    {
     "name": "stdout",
     "output_type": "stream",
     "text": [
      "(array(['a', 'b', 'c', 'd', 'c', 'b', 'a'], dtype='<U1'), ': This is a symmetric list')\n",
      "(array([ 13,  16,  17,  19, 445,  14,  13]), ': This is not a symmetric list')\n"
     ]
    }
   ],
   "source": [
    "import numpy as np\n",
    "\n",
    "# Define a funcion that going to test the fist item against the last items of the list to check it they are equals o not\n",
    "# in case they are equal, it means it is symmetric\n",
    "def testSym(list):\n",
    "    left = 0\n",
    "    right = len(list)-1\n",
    "    mid = len(list)//2\n",
    "    while left <= mid:\n",
    "        if list[left] == list[right]:\n",
    "            left += 1\n",
    "            right -= 1\n",
    "        else:\n",
    "            return (list, \": This is not a symmetric list\")\n",
    "    return(list ,\": This is a symmetric list\")\n",
    "        \n",
    "# Run the test for a symmetric list\n",
    "list1 = np.array([\"a\", \"b\", \"c\", \"d\", \"c\", \"b\", \"a\"])\n",
    "print(testSym(list1))\n",
    "\n",
    "# Run the test for a non symmetric list\n",
    "list2 = np.array([13, 16, 17, 19, 445, 14, 13])\n",
    "print(testSym(list2))"
   ]
  },
  {
   "cell_type": "markdown",
   "id": "aedf35e0",
   "metadata": {
    "ExecuteTime": {
     "end_time": "2022-06-21T20:57:15.582844Z",
     "start_time": "2022-06-21T20:57:15.568892Z"
    }
   },
   "source": [
    "### Level 1 - Exercise 5\n",
    "    * Design a program where given a numeric list, it must show elements values match with the index(position) in the list"
   ]
  },
  {
   "cell_type": "code",
   "execution_count": 5,
   "id": "2420143b",
   "metadata": {
    "ExecuteTime": {
     "end_time": "2022-07-04T18:37:18.193281Z",
     "start_time": "2022-07-04T18:37:18.178297Z"
    }
   },
   "outputs": [
    {
     "name": "stdout",
     "output_type": "stream",
     "text": [
      "Numeric list array:  [4 8 9 7 5 6 1 6 4 7]\n",
      "Values that match the index position:  []\n"
     ]
    }
   ],
   "source": [
    "import numpy as np\n",
    "\n",
    "# Definition to find out which values match the their index position\n",
    "def testArr(arr):\n",
    "    output = []\n",
    "    for idx, x in enumerate(arr):\n",
    "        if (idx == x):\n",
    "            output.append(x)\n",
    "    return(output)\n",
    "\n",
    "# Generation of a random array of 10 elements to evaluate de design\n",
    "arr = np.random.randint(1,10,10)\n",
    "print (\"Numeric list array: \",arr)\n",
    "print (\"Values that match the index position: \", testArr(arr))"
   ]
  }
 ],
 "metadata": {
  "kernelspec": {
   "display_name": "Python 3 (ipykernel)",
   "language": "python",
   "name": "python3"
  },
  "language_info": {
   "codemirror_mode": {
    "name": "ipython",
    "version": 3
   },
   "file_extension": ".py",
   "mimetype": "text/x-python",
   "name": "python",
   "nbconvert_exporter": "python",
   "pygments_lexer": "ipython3",
   "version": "3.9.12"
  },
  "latex_envs": {
   "LaTeX_envs_menu_present": true,
   "autoclose": false,
   "autocomplete": true,
   "bibliofile": "biblio.bib",
   "cite_by": "apalike",
   "current_citInitial": 1,
   "eqLabelWithNumbers": true,
   "eqNumInitial": 1,
   "hotkeys": {
    "equation": "Ctrl-E",
    "itemize": "Ctrl-I"
   },
   "labels_anchors": false,
   "latex_user_defs": false,
   "report_style_numbering": false,
   "user_envs_cfg": false
  },
  "nbTranslate": {
   "displayLangs": [
    "en"
   ],
   "hotkey": "alt-t",
   "langInMainMenu": true,
   "sourceLang": "en",
   "targetLang": "fr",
   "useGoogleTranslate": true
  },
  "toc": {
   "base_numbering": 1,
   "nav_menu": {
    "height": "300px",
    "width": "278px"
   },
   "number_sections": true,
   "sideBar": true,
   "skip_h1_title": true,
   "title_cell": "Table of Contents",
   "title_sidebar": "Contents",
   "toc_cell": false,
   "toc_position": {
    "height": "calc(100% - 180px)",
    "left": "10px",
    "top": "150px",
    "width": "384px"
   },
   "toc_section_display": true,
   "toc_window_display": false
  },
  "varInspector": {
   "cols": {
    "lenName": 16,
    "lenType": 16,
    "lenVar": 40
   },
   "kernels_config": {
    "python": {
     "delete_cmd_postfix": "",
     "delete_cmd_prefix": "del ",
     "library": "var_list.py",
     "varRefreshCmd": "print(var_dic_list())"
    },
    "r": {
     "delete_cmd_postfix": ") ",
     "delete_cmd_prefix": "rm(",
     "library": "var_list.r",
     "varRefreshCmd": "cat(var_dic_list()) "
    }
   },
   "types_to_exclude": [
    "module",
    "function",
    "builtin_function_or_method",
    "instance",
    "_Feature"
   ],
   "window_display": false
  }
 },
 "nbformat": 4,
 "nbformat_minor": 5
}

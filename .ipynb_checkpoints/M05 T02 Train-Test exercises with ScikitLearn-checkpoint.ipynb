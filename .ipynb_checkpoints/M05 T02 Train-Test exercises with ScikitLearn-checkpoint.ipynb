{
 "cells": [
  {
   "cell_type": "markdown",
   "id": "900b170a",
   "metadata": {},
   "source": [
    "Train-Test exercises with ScikitLearn from a dataset with information about Houston homes.\n",
    "\n",
    "- Exercise 1\n",
    "Split the attached data set into train and test. Study the two sets separately, at a descriptive level.\n",
    "\n",
    "You will also find attached a description of the different variables in the dataset.\n",
    "\n",
    "\n",
    "\n",
    "- Exercise 2\n",
    "Apply some transformation process (standardize numerical data, create dummy columns, polynomials...).\n",
    "\n",
    "\n",
    "\n",
    "- Exercise 3\n",
    "Summarize the new columns generated in a statistical and graphical way.\n",
    "\n",
    "Translated with www.DeepL.com/Translator (free version)\n",
    "\n",
    "\n",
    "\n",
    "\n",
    "\n",
    "\n",
    "\n",
    "\n",
    "\n",
    "\n",
    "\n",
    "Exercicis de Train-Test amb ScikitLearn a partir d'un dataset amb informació sobre les vivendes de Houston.\n",
    "\n",
    "- Exercici 1\n",
    "Parteix el conjunt de dades adjunt en train i test. Estudia els dos conjunts per separat, a nivell descriptiu.\n",
    "\n",
    "També adjunt trobaràs una descripció de les diferents variables del dataset.\n",
    "\n",
    "\n",
    "\n",
    "- Exercici 2\n",
    "Aplica algun procés de transformació (estandarditzar les dades numèriques, crear columnes dummies, polinomis...).\n",
    "\n",
    "\n",
    "\n",
    "- Exercici 3\n",
    "Resumeix les noves columnes generades de manera estadística i gràfica"
   ]
  }
 ],
 "metadata": {
  "kernelspec": {
   "display_name": "Python 3 (ipykernel)",
   "language": "python",
   "name": "python3"
  },
  "language_info": {
   "codemirror_mode": {
    "name": "ipython",
    "version": 3
   },
   "file_extension": ".py",
   "mimetype": "text/x-python",
   "name": "python",
   "nbconvert_exporter": "python",
   "pygments_lexer": "ipython3",
   "version": "3.9.12"
  },
  "latex_envs": {
   "LaTeX_envs_menu_present": true,
   "autoclose": false,
   "autocomplete": true,
   "bibliofile": "biblio.bib",
   "cite_by": "apalike",
   "current_citInitial": 1,
   "eqLabelWithNumbers": true,
   "eqNumInitial": 1,
   "hotkeys": {
    "equation": "Ctrl-E",
    "itemize": "Ctrl-I"
   },
   "labels_anchors": false,
   "latex_user_defs": false,
   "report_style_numbering": false,
   "user_envs_cfg": false
  },
  "nbTranslate": {
   "displayLangs": [
    "*"
   ],
   "hotkey": "alt-t",
   "langInMainMenu": true,
   "sourceLang": "en",
   "targetLang": "fr",
   "useGoogleTranslate": true
  },
  "toc": {
   "base_numbering": 1,
   "nav_menu": {},
   "number_sections": true,
   "sideBar": true,
   "skip_h1_title": true,
   "title_cell": "Table of Contents",
   "title_sidebar": "Contents",
   "toc_cell": false,
   "toc_position": {},
   "toc_section_display": true,
   "toc_window_display": false
  },
  "varInspector": {
   "cols": {
    "lenName": 16,
    "lenType": 16,
    "lenVar": 40
   },
   "kernels_config": {
    "python": {
     "delete_cmd_postfix": "",
     "delete_cmd_prefix": "del ",
     "library": "var_list.py",
     "varRefreshCmd": "print(var_dic_list())"
    },
    "r": {
     "delete_cmd_postfix": ") ",
     "delete_cmd_prefix": "rm(",
     "library": "var_list.r",
     "varRefreshCmd": "cat(var_dic_list()) "
    }
   },
   "types_to_exclude": [
    "module",
    "function",
    "builtin_function_or_method",
    "instance",
    "_Feature"
   ],
   "window_display": false
  }
 },
 "nbformat": 4,
 "nbformat_minor": 5
}
